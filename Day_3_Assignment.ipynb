{
  "nbformat": 4,
  "nbformat_minor": 0,
  "metadata": {
    "colab": {
      "name": "Day-3 Assignment ",
      "provenance": [],
      "collapsed_sections": [],
      "authorship_tag": "ABX9TyPp1kgLLpfEW1jy9npEE4bA",
      "include_colab_link": true
    },
    "kernelspec": {
      "name": "python3",
      "display_name": "Python 3"
    }
  },
  "cells": [
    {
      "cell_type": "markdown",
      "metadata": {
        "id": "view-in-github",
        "colab_type": "text"
      },
      "source": [
        "<a href=\"https://colab.research.google.com/github/Kesh1565/-Letsupgrade-AL-ML/blob/master/Day_3_Assignment.ipynb\" target=\"_parent\"><img src=\"https://colab.research.google.com/assets/colab-badge.svg\" alt=\"Open In Colab\"/></a>"
      ]
    },
    {
      "cell_type": "markdown",
      "metadata": {
        "id": "xA_i2AeXnMOU",
        "colab_type": "text"
      },
      "source": [
        "1. Write a program to subtract two complex numbers in Python."
      ]
    },
    {
      "cell_type": "code",
      "metadata": {
        "id": "phQqIsjqnM-4",
        "colab_type": "code",
        "colab": {
          "base_uri": "https://localhost:8080/",
          "height": 34
        },
        "outputId": "3ca1db55-25d9-40b1-f83f-1d187dbfc468"
      },
      "source": [
        "z1= complex(5,3) \n",
        "z2= complex(3,2)\n",
        "y=z1-z2\n",
        "print('the subtraction is:', y)\n"
      ],
      "execution_count": 3,
      "outputs": [
        {
          "output_type": "stream",
          "text": [
            "the subtraction is: (2+1j)\n"
          ],
          "name": "stdout"
        }
      ]
    },
    {
      "cell_type": "markdown",
      "metadata": {
        "id": "uHwzY7CIo1TH",
        "colab_type": "text"
      },
      "source": [
        "2. Write a program to find the fourth root of a number"
      ]
    },
    {
      "cell_type": "code",
      "metadata": {
        "id": "_H_06xOnpVYi",
        "colab_type": "code",
        "colab": {
          "base_uri": "https://localhost:8080/",
          "height": 34
        },
        "outputId": "bd651806-9ca4-477f-8c5a-c0026c411e12"
      },
      "source": [
        "x=250\n",
        "b=4\n",
        "y=x**(1/(b))\n",
        "print('the fourth root of x is:', y)"
      ],
      "execution_count": 7,
      "outputs": [
        {
          "output_type": "stream",
          "text": [
            "the fourth root of x is: 3.976353643835253\n"
          ],
          "name": "stdout"
        }
      ]
    },
    {
      "cell_type": "markdown",
      "metadata": {
        "id": "N6-QweWOqtVG",
        "colab_type": "text"
      },
      "source": [
        "3. Write a program to swap two numbers in Python with the help of a temporary variable"
      ]
    },
    {
      "cell_type": "code",
      "metadata": {
        "id": "oVwwsW5fqu35",
        "colab_type": "code",
        "colab": {
          "base_uri": "https://localhost:8080/",
          "height": 51
        },
        "outputId": "bd1eb01b-a740-4d19-8fdf-2a24bc3cfc1c"
      },
      "source": [
        "x=3\n",
        "y=4\n",
        "i=x\n",
        "x=y\n",
        "y=i\n",
        "print(\"the value of x after swapping is \", x)\n",
        "print(\"the value of y after swapping is \", y)\n",
        "\n",
        "\n"
      ],
      "execution_count": 12,
      "outputs": [
        {
          "output_type": "stream",
          "text": [
            "the value of x after swapping is  4\n",
            "the value of y after swapping is  3\n"
          ],
          "name": "stdout"
        }
      ]
    },
    {
      "cell_type": "markdown",
      "metadata": {
        "id": "AxcKJyAms8M_",
        "colab_type": "text"
      },
      "source": [
        "4. Write a program to swap two numbers in Python without using a temporary variable.\n"
      ]
    },
    {
      "cell_type": "code",
      "metadata": {
        "id": "dWdp27f-s-FF",
        "colab_type": "code",
        "colab": {
          "base_uri": "https://localhost:8080/",
          "height": 51
        },
        "outputId": "98514d8d-1fa0-43a3-9adc-27fa9ff09d64"
      },
      "source": [
        "x=6\n",
        "y=5\n",
        "x=x+y\n",
        "y=x-y\n",
        "x=x-y\n",
        "print(\"the value of x after swapping is \", x)\n",
        "print(\"the value of y after swapping is \", y)\n",
        "\n",
        "\n"
      ],
      "execution_count": 18,
      "outputs": [
        {
          "output_type": "stream",
          "text": [
            "the value of x after swapping is  5\n",
            "the value of y after swapping is  6\n"
          ],
          "name": "stdout"
        }
      ]
    },
    {
      "cell_type": "markdown",
      "metadata": {
        "id": "DEM-WQV30f13",
        "colab_type": "text"
      },
      "source": [
        "5. Write a program to convert fahrenheit to kelvin and celsius both.\n"
      ]
    },
    {
      "cell_type": "code",
      "metadata": {
        "id": "Qn43jnhz7maX",
        "colab_type": "code",
        "colab": {
          "base_uri": "https://localhost:8080/",
          "height": 51
        },
        "outputId": "e88eb652-c23d-4664-e1e0-4a0b66d48405"
      },
      "source": [
        "tf=60\n",
        "tk = (tf+459.67)*5/9\n",
        "tc = (tf-32)/9/5\n",
        "print(\"the converter kelvin value is:\", tk)\n",
        "print(\"the converter celsius value is:\", tc)"
      ],
      "execution_count": 22,
      "outputs": [
        {
          "output_type": "stream",
          "text": [
            "the converter kelvin value is: 288.7055555555556\n",
            "the converter celsius value is: 0.6222222222222222\n"
          ],
          "name": "stdout"
        }
      ]
    },
    {
      "cell_type": "markdown",
      "metadata": {
        "id": "pGa8Njkny3y9",
        "colab_type": "text"
      },
      "source": [
        "6. Write a program to demonstrate all the available data types in Python. Hint: Use type() function."
      ]
    },
    {
      "cell_type": "code",
      "metadata": {
        "id": "xJ9SNNKey5SJ",
        "colab_type": "code",
        "colab": {
          "base_uri": "https://localhost:8080/",
          "height": 136
        },
        "outputId": "786782bb-fd10-4940-ca70-8946e611c495"
      },
      "source": [
        "a=100\n",
        "b=10.53\n",
        "c=\"letsupgrade\"\n",
        "d=3+2j\n",
        "f=(1,2,3,4)\n",
        "g=[2,5,67,8]\n",
        "h={1,5,7,8,5}\n",
        "print(\"the data type for 100 is:\",type(a))\n",
        "print(\"the data type for 10.53 is:\",type(b))\n",
        "print(\"the data type for letsupgrade is:\",type(c))\n",
        "print(\"the data type for 3+2j is:\",type(d))\n",
        "print(\"the data type for (1,2,3,4) is:\",type(f))\n",
        "print(\"the data type for [2,5,67,8]  is:\",type(g))\n",
        "print(\"the data type for {1,5,7,8,5} is:\",type(h))\n",
        "\n"
      ],
      "execution_count": 26,
      "outputs": [
        {
          "output_type": "stream",
          "text": [
            "the data type for 100 is: <class 'int'>\n",
            "the data type for 10.53 is: <class 'float'>\n",
            "the data type for letsupgrade is: <class 'str'>\n",
            "the data type for 3+2j is: <class 'complex'>\n",
            "the data type for (1,2,3,4) is: <class 'tuple'>\n",
            "the data type for [2,5,67,8]  is: <class 'list'>\n",
            "the data type for {1,5,7,8,5} is: <class 'set'>\n"
          ],
          "name": "stdout"
        }
      ]
    }
  ]
}