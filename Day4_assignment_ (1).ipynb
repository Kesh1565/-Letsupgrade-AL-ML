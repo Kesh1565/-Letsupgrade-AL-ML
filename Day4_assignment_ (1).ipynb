{
  "nbformat": 4,
  "nbformat_minor": 0,
  "metadata": {
    "colab": {
      "name": "Day4 assignment .ipynb",
      "provenance": [],
      "collapsed_sections": []
    },
    "kernelspec": {
      "name": "python3",
      "display_name": "Python 3"
    }
  },
  "cells": [
    {
      "cell_type": "code",
      "metadata": {
        "id": "1MzH4_eVZDOi",
        "colab_type": "code",
        "colab": {}
      },
      "source": [
        ""
      ],
      "execution_count": null,
      "outputs": []
    },
    {
      "cell_type": "markdown",
      "metadata": {
        "id": "lYuX_5sUZHFO",
        "colab_type": "text"
      },
      "source": [
        "Question 1 :\n",
        "Research on whether addition, subtraction, multiplication, division, floor division and modulo\n",
        "operations be performed on complex numbers. Based on your study, implement a Python\n",
        "program to demonstrate these operations.\n"
      ]
    },
    {
      "cell_type": "code",
      "metadata": {
        "id": "nNnLrIGaZIWQ",
        "colab_type": "code",
        "colab": {
          "base_uri": "https://localhost:8080/",
          "height": 34
        },
        "outputId": "aa26c4b7-b9d4-40d6-cc8a-d08ae2b91c04"
      },
      "source": [
        "x=2+3j\n",
        "y=3+8j\n",
        "z=x+y\n",
        "print(\"the addition of two complex nummber x and y is:\",z)\n"
      ],
      "execution_count": null,
      "outputs": [
        {
          "output_type": "stream",
          "text": [
            "the addition of two complex nummber x and y is: (5+11j)\n"
          ],
          "name": "stdout"
        }
      ]
    },
    {
      "cell_type": "code",
      "metadata": {
        "id": "_MkU8fX5Z40b",
        "colab_type": "code",
        "colab": {
          "base_uri": "https://localhost:8080/",
          "height": 34
        },
        "outputId": "cbefacfd-4046-482d-8016-ea3ef4bd340e"
      },
      "source": [
        "x=2+3j\n",
        "y=3+8j\n",
        "z=x-y\n",
        "print(\"the subtraction of two complex nummber x and y is:\",z)"
      ],
      "execution_count": null,
      "outputs": [
        {
          "output_type": "stream",
          "text": [
            "the subtraction of two complex nummber x and y is: (-1-5j)\n"
          ],
          "name": "stdout"
        }
      ]
    },
    {
      "cell_type": "code",
      "metadata": {
        "id": "L71CJY_gaA7a",
        "colab_type": "code",
        "colab": {
          "base_uri": "https://localhost:8080/",
          "height": 34
        },
        "outputId": "9380d43f-5da9-45fb-fad4-37a60003c63a"
      },
      "source": [
        "x=2+3j\n",
        "y=3+8j\n",
        "z=x*y\n",
        "print(\"the muliplication of two complex nummber x and y is:\",z)"
      ],
      "execution_count": null,
      "outputs": [
        {
          "output_type": "stream",
          "text": [
            "the muliplication of two complex nummber x and y is: (-18+25j)\n"
          ],
          "name": "stdout"
        }
      ]
    },
    {
      "cell_type": "code",
      "metadata": {
        "id": "tE4u6IQxaJOq",
        "colab_type": "code",
        "colab": {
          "base_uri": "https://localhost:8080/",
          "height": 34
        },
        "outputId": "b1ecf8b8-7f17-4e65-bec5-ffd8c7d3167a"
      },
      "source": [
        "x=2+3j\n",
        "y=3+8j\n",
        "z=x/y\n",
        "print(\"the division of two complex nummber x and y is:\",z)"
      ],
      "execution_count": null,
      "outputs": [
        {
          "output_type": "stream",
          "text": [
            "the division of two complex nummber x and y is: (0.410958904109589-0.0958904109589041j)\n"
          ],
          "name": "stdout"
        }
      ]
    },
    {
      "cell_type": "code",
      "metadata": {
        "id": "6tP142kKaaxA",
        "colab_type": "code",
        "colab": {
          "base_uri": "https://localhost:8080/",
          "height": 214
        },
        "outputId": "172f7725-dbfd-4555-924d-914c58db25d0"
      },
      "source": [
        "x=2+3j\n",
        "y=3+8j\n",
        "z=x%y\n",
        "print(\"the modular of two complex nummber x and y is:\",z)"
      ],
      "execution_count": null,
      "outputs": [
        {
          "output_type": "error",
          "ename": "TypeError",
          "evalue": "ignored",
          "traceback": [
            "\u001b[0;31m---------------------------------------------------------------------------\u001b[0m",
            "\u001b[0;31mTypeError\u001b[0m                                 Traceback (most recent call last)",
            "\u001b[0;32m<ipython-input-10-c04c9b8b081d>\u001b[0m in \u001b[0;36m<module>\u001b[0;34m()\u001b[0m\n\u001b[1;32m      1\u001b[0m \u001b[0mx\u001b[0m\u001b[0;34m=\u001b[0m\u001b[0;36m2\u001b[0m\u001b[0;34m+\u001b[0m\u001b[0;36m3j\u001b[0m\u001b[0;34m\u001b[0m\u001b[0;34m\u001b[0m\u001b[0m\n\u001b[1;32m      2\u001b[0m \u001b[0my\u001b[0m\u001b[0;34m=\u001b[0m\u001b[0;36m3\u001b[0m\u001b[0;34m+\u001b[0m\u001b[0;36m8j\u001b[0m\u001b[0;34m\u001b[0m\u001b[0;34m\u001b[0m\u001b[0m\n\u001b[0;32m----> 3\u001b[0;31m \u001b[0mz\u001b[0m\u001b[0;34m=\u001b[0m\u001b[0mx\u001b[0m\u001b[0;34m%\u001b[0m\u001b[0my\u001b[0m\u001b[0;34m\u001b[0m\u001b[0;34m\u001b[0m\u001b[0m\n\u001b[0m\u001b[1;32m      4\u001b[0m \u001b[0mprint\u001b[0m\u001b[0;34m(\u001b[0m\u001b[0;34m\"the remainder of two complex nummber x and y is:\"\u001b[0m\u001b[0;34m,\u001b[0m\u001b[0mz\u001b[0m\u001b[0;34m)\u001b[0m\u001b[0;34m\u001b[0m\u001b[0;34m\u001b[0m\u001b[0m\n",
            "\u001b[0;31mTypeError\u001b[0m: can't mod complex numbers."
          ]
        }
      ]
    },
    {
      "cell_type": "markdown",
      "metadata": {
        "id": "DjT7QLAOalqR",
        "colab_type": "text"
      },
      "source": [
        "Based on the result we can see that  modular cannot be taken on complex numbers "
      ]
    },
    {
      "cell_type": "code",
      "metadata": {
        "id": "8Cl5FeyVazYp",
        "colab_type": "code",
        "colab": {
          "base_uri": "https://localhost:8080/",
          "height": 214
        },
        "outputId": "e1c7c187-90e9-4c29-83c1-3fcd85e20b71"
      },
      "source": [
        "x=2+3j\n",
        "y=3+8j\n",
        "z=x//y\n",
        "print(\"the Floor Division of two complex nummber x and y is:\",z)"
      ],
      "execution_count": null,
      "outputs": [
        {
          "output_type": "error",
          "ename": "TypeError",
          "evalue": "ignored",
          "traceback": [
            "\u001b[0;31m---------------------------------------------------------------------------\u001b[0m",
            "\u001b[0;31mTypeError\u001b[0m                                 Traceback (most recent call last)",
            "\u001b[0;32m<ipython-input-11-f5c58e5ccb29>\u001b[0m in \u001b[0;36m<module>\u001b[0;34m()\u001b[0m\n\u001b[1;32m      1\u001b[0m \u001b[0mx\u001b[0m\u001b[0;34m=\u001b[0m\u001b[0;36m2\u001b[0m\u001b[0;34m+\u001b[0m\u001b[0;36m3j\u001b[0m\u001b[0;34m\u001b[0m\u001b[0;34m\u001b[0m\u001b[0m\n\u001b[1;32m      2\u001b[0m \u001b[0my\u001b[0m\u001b[0;34m=\u001b[0m\u001b[0;36m3\u001b[0m\u001b[0;34m+\u001b[0m\u001b[0;36m8j\u001b[0m\u001b[0;34m\u001b[0m\u001b[0;34m\u001b[0m\u001b[0m\n\u001b[0;32m----> 3\u001b[0;31m \u001b[0mz\u001b[0m\u001b[0;34m=\u001b[0m\u001b[0mx\u001b[0m\u001b[0;34m//\u001b[0m\u001b[0my\u001b[0m\u001b[0;34m\u001b[0m\u001b[0;34m\u001b[0m\u001b[0m\n\u001b[0m\u001b[1;32m      4\u001b[0m \u001b[0mprint\u001b[0m\u001b[0;34m(\u001b[0m\u001b[0;34m\"the Floor Division of two complex nummber x and y is:\"\u001b[0m\u001b[0;34m,\u001b[0m\u001b[0mz\u001b[0m\u001b[0;34m)\u001b[0m\u001b[0;34m\u001b[0m\u001b[0;34m\u001b[0m\u001b[0m\n",
            "\u001b[0;31mTypeError\u001b[0m: can't take floor of complex number."
          ]
        }
      ]
    },
    {
      "cell_type": "markdown",
      "metadata": {
        "id": "lcRHBTDpa9Ub",
        "colab_type": "text"
      },
      "source": [
        "Based on the result we can see that  floor divsion cannot be taken on complex numbers "
      ]
    },
    {
      "cell_type": "markdown",
      "metadata": {
        "id": "xRfjQt22bqbv",
        "colab_type": "text"
      },
      "source": [
        "Question 2 :\n",
        "Research on range() functions and its parameters. Create a markdown cell and write in your own\n",
        "words (no copy-paste from google please) what you understand about it. Implement a small\n",
        "program of your choice on the same."
      ]
    },
    {
      "cell_type": "markdown",
      "metadata": {
        "id": "MCJlRt-Ycl21",
        "colab_type": "text"
      },
      "source": [
        "Range is function that is used mostly in loops as in which its have two  parmaters that starting and then ending points where it start counting from the first point inclusive till last point exclusive.\n",
        "range(end)\n",
        "range (start, end)\n",
        "range (start, end , step size)\n",
        "\n"
      ]
    },
    {
      "cell_type": "code",
      "metadata": {
        "id": "Z5TVhIjPbrbm",
        "colab_type": "code",
        "colab": {
          "base_uri": "https://localhost:8080/",
          "height": 272
        },
        "outputId": "ff8b17aa-9256-40b8-9779-c1c47de2abde"
      },
      "source": [
        "for t in range(15): \n",
        "    print(t) \n",
        "  \n"
      ],
      "execution_count": null,
      "outputs": [
        {
          "output_type": "stream",
          "text": [
            "0\n",
            "1\n",
            "2\n",
            "3\n",
            "4\n",
            "5\n",
            "6\n",
            "7\n",
            "8\n",
            "9\n",
            "10\n",
            "11\n",
            "12\n",
            "13\n",
            "14\n"
          ],
          "name": "stdout"
        }
      ]
    },
    {
      "cell_type": "code",
      "metadata": {
        "id": "L6wwtebtvr9o",
        "colab_type": "code",
        "colab": {
          "base_uri": "https://localhost:8080/",
          "height": 238
        },
        "outputId": "3da204e4-276b-4630-a885-1a1df7fc9d08"
      },
      "source": [
        "for t in range(2, 15): \n",
        "    print(t) "
      ],
      "execution_count": null,
      "outputs": [
        {
          "output_type": "stream",
          "text": [
            "2\n",
            "3\n",
            "4\n",
            "5\n",
            "6\n",
            "7\n",
            "8\n",
            "9\n",
            "10\n",
            "11\n",
            "12\n",
            "13\n",
            "14\n"
          ],
          "name": "stdout"
        }
      ]
    },
    {
      "cell_type": "code",
      "metadata": {
        "id": "oqMNPoK8wZKA",
        "colab_type": "code",
        "colab": {
          "base_uri": "https://localhost:8080/",
          "height": 136
        },
        "outputId": "c1792339-96d2-4c3b-c785-d0239e13baf6"
      },
      "source": [
        "for t in range(2, 15, 2): \n",
        "    print(t) "
      ],
      "execution_count": null,
      "outputs": [
        {
          "output_type": "stream",
          "text": [
            "2\n",
            "4\n",
            "6\n",
            "8\n",
            "10\n",
            "12\n",
            "14\n"
          ],
          "name": "stdout"
        }
      ]
    },
    {
      "cell_type": "code",
      "metadata": {
        "id": "2cIr5digw8jR",
        "colab_type": "code",
        "colab": {
          "base_uri": "https://localhost:8080/",
          "height": 34
        },
        "outputId": "ed650c76-58e4-44fb-fd8b-a8b676f8ec3a"
      },
      "source": [
        "s=0\n",
        "for i in (range(5):\n",
        "  s=s+i\n",
        "print(\"sum =\", s)"
      ],
      "execution_count": null,
      "outputs": [
        {
          "output_type": "stream",
          "text": [
            "sum = 10\n"
          ],
          "name": "stdout"
        }
      ]
    },
    {
      "cell_type": "code",
      "metadata": {
        "id": "1fyzE3-l4HwW",
        "colab_type": "code",
        "colab": {
          "base_uri": "https://localhost:8080/",
          "height": 187
        },
        "outputId": "9407c5c4-6c91-4db4-a6af-1b555ee3712d"
      },
      "source": [
        "for i in range(5):\n",
        "  for j in range(i):\n",
        "    print(\"$\", end=\"  \")\n",
        "  print(\"\\n\")  "
      ],
      "execution_count": null,
      "outputs": [
        {
          "output_type": "stream",
          "text": [
            "\n",
            "\n",
            "$  \n",
            "\n",
            "$  $  \n",
            "\n",
            "$  $  $  \n",
            "\n",
            "$  $  $  $  \n",
            "\n"
          ],
          "name": "stdout"
        }
      ]
    },
    {
      "cell_type": "markdown",
      "metadata": {
        "id": "wjS1bVIWex3h",
        "colab_type": "text"
      },
      "source": [
        "Question 3:\n",
        " Consider two numbers. Perform their subtraction and if the result of subtraction is greater than\n",
        "25, print their multiplication result else print their division result.\n"
      ]
    },
    {
      "cell_type": "code",
      "metadata": {
        "id": "usXQSYUtezBf",
        "colab_type": "code",
        "colab": {
          "base_uri": "https://localhost:8080/",
          "height": 34
        },
        "outputId": "ec2191e7-61c5-475b-efe7-73ae421e5a75"
      },
      "source": [
        "x=10\n",
        "y=5\n",
        "s=x-y\n",
        "m=x*y\n",
        "d=x/y\n",
        "if s>25:\n",
        "  print(\"the multiplication of x and y is\" , m)\n",
        "else:\n",
        "  print(\"the division of x and y is\" , d)\n",
        "\n"
      ],
      "execution_count": null,
      "outputs": [
        {
          "output_type": "stream",
          "text": [
            "the division of x and y is 2.0\n"
          ],
          "name": "stdout"
        }
      ]
    },
    {
      "cell_type": "code",
      "metadata": {
        "id": "QbZwFPdZfxqk",
        "colab_type": "code",
        "colab": {
          "base_uri": "https://localhost:8080/",
          "height": 34
        },
        "outputId": "19fb2649-5b30-4d45-bf78-a0bac6977c3e"
      },
      "source": [
        "x=250\n",
        "y=5\n",
        "s=x-y\n",
        "m=x*y\n",
        "d=x/y\n",
        "if s>25:\n",
        "  print(\"the multiplication of x and y is\" , m)\n",
        "else:\n",
        "  print(\"the division of x and y is\" , d)\n"
      ],
      "execution_count": null,
      "outputs": [
        {
          "output_type": "stream",
          "text": [
            "the multiplication of x and y is 1250\n"
          ],
          "name": "stdout"
        }
      ]
    },
    {
      "cell_type": "markdown",
      "metadata": {
        "id": "PZ1MxVgThWYg",
        "colab_type": "text"
      },
      "source": [
        "Consider a list of 10 elements. Print all the elements in the list which are greater than 7 when that\n",
        "number is divided 2."
      ]
    },
    {
      "cell_type": "code",
      "metadata": {
        "id": "HPyQuhwchcEW",
        "colab_type": "code",
        "colab": {
          "base_uri": "https://localhost:8080/",
          "height": 68
        },
        "outputId": "88d0f029-5e49-44b3-8405-fbdad56dc3a2"
      },
      "source": [
        "l=[1,2,3,4,100,6,20,8,9,22]\n",
        "for i in l:\n",
        "  k=i/2\n",
        "  if k>7:\n",
        "   print(i)\n",
        "  \n"
      ],
      "execution_count": 13,
      "outputs": [
        {
          "output_type": "stream",
          "text": [
            "100\n",
            "20\n",
            "22\n"
          ],
          "name": "stdout"
        }
      ]
    },
    {
      "cell_type": "markdown",
      "metadata": {
        "id": "TYGpITlcMp1N",
        "colab_type": "text"
      },
      "source": [
        "Consider a list of 10 elements of integer values. If the number in the list is divisible by 2, print the\n",
        "result as \"square of that number minus 2\".\n"
      ]
    },
    {
      "cell_type": "code",
      "metadata": {
        "id": "40nvpdHuNkFC",
        "colab_type": "code",
        "colab": {
          "base_uri": "https://localhost:8080/",
          "height": 136
        },
        "outputId": "bd3c0a8c-2d63-48b9-9687-836e77af61ee"
      },
      "source": [
        "l=[1,20,3,4,100,6,26,8,9,22]\n",
        "for i in l:\n",
        "  k=i%2\n",
        "  if k==0:\n",
        "   print( \"square of that number minus 2\",i)\n"
      ],
      "execution_count": 19,
      "outputs": [
        {
          "output_type": "stream",
          "text": [
            "square of that number minus 2 20\n",
            "square of that number minus 2 4\n",
            "square of that number minus 2 100\n",
            "square of that number minus 2 6\n",
            "square of that number minus 2 26\n",
            "square of that number minus 2 8\n",
            "square of that number minus 2 22\n"
          ],
          "name": "stdout"
        }
      ]
    }
  ]
}