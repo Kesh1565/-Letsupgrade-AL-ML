{
  "nbformat": 4,
  "nbformat_minor": 0,
  "metadata": {
    "colab": {
      "name": "Day 5 Assignment.ipynb",
      "provenance": [],
      "collapsed_sections": []
    },
    "kernelspec": {
      "name": "python3",
      "display_name": "Python 3"
    }
  },
  "cells": [
    {
      "cell_type": "markdown",
      "metadata": {
        "id": "dD_NJzPUw1Ng",
        "colab_type": "text"
      },
      "source": [
        "Question 2 :\n",
        "Write a Python program to implement 15 functions of string"
      ]
    },
    {
      "cell_type": "code",
      "metadata": {
        "id": "QVVrps07wQOt",
        "colab_type": "code",
        "colab": {
          "base_uri": "https://localhost:8080/",
          "height": 255
        },
        "outputId": "af4b9853-670b-4193-8c07-1801db2abad9"
      },
      "source": [
        "k1 = \"Deep learning\"\n",
        "k2 = \"lets upgrade\"\n",
        "print(k1.swapcase())\n",
        "print(k1+k2)\n",
        "print(len(k1))\n",
        "print(k1.find('l'))\n",
        "print(k1.lower())\n",
        "print(k1.upper())\n",
        "print(k1.isdigit())\n",
        "print(k1.isalpha())\n",
        "print(k1.replace('l','z'))\n",
        "print(k2.isspace())\n",
        "print(k2.title())\n",
        "print(k2.split(\" \"))\n",
        "print(k1.join(k2))\n",
        "print(k1.strip('deep'))"
      ],
      "execution_count": 7,
      "outputs": [
        {
          "output_type": "stream",
          "text": [
            "dEEP LEARNING\n",
            "Deep learninglets upgrade\n",
            "13\n",
            "5\n",
            "deep learning\n",
            "DEEP LEARNING\n",
            "False\n",
            "False\n",
            "Deep zearning\n",
            "False\n",
            "Lets Upgrade\n",
            "['lets', 'upgrade']\n",
            "lDeep learningeDeep learningtDeep learningsDeep learning Deep learninguDeep learningpDeep learninggDeep learningrDeep learningaDeep learningdDeep learninge\n",
            "Deep learning\n"
          ],
          "name": "stdout"
        }
      ]
    },
    {
      "cell_type": "markdown",
      "metadata": {
        "id": "g27007dZYs2P",
        "colab_type": "text"
      },
      "source": [
        "Question 3:\n",
        "Write a Python program to check if the given string is a Palindrome or Anagram or None of them.\n",
        "Display the message accordingly to the user.\n"
      ]
    },
    {
      "cell_type": "code",
      "metadata": {
        "id": "ETehhkgBYsBI",
        "colab_type": "code",
        "colab": {
          "base_uri": "https://localhost:8080/",
          "height": 102
        },
        "outputId": "a1adb5e5-d8fe-4b53-dd8c-097d85a0f5b5"
      },
      "source": [
        "# Palindrome_and_Anagram\n",
        "str1=str(input(\"enter first word.\"))\n",
        "str2=str(input(\"enter second word.\"))\n",
        "k2=str1[::-1]\n",
        "if str1==k2:\n",
        "    print(str1,\" first word is a palindrome\")\n",
        "else:\n",
        "    print(str1,\" first word is not a palindrome\")\n",
        "k4=str2[::-1]\n",
        "if str2==k4:\n",
        "    print(str2,\" second word is a palindrome\")\n",
        "else:\n",
        "    print(str2,\" second word is not a palindrome\")\n",
        "def areAnagram(str1, str2):  \n",
        "   \n",
        "    n1 = len(str1)  \n",
        "    n2 = len(str2)  \n",
        "   \n",
        "    if n1 != n2:  \n",
        "        return 0\n",
        "  \n",
        "   \n",
        "    str1 = sorted(str1) \n",
        "    str2 = sorted(str2) \n",
        "  \n",
        " \n",
        "    for i in range(0, n1):  \n",
        "        if str1[i] != str2[i]:  \n",
        "            return 0\n",
        "  \n",
        "    return 1\n",
        "    \n",
        "if areAnagram(str1, str2):  \n",
        "    print (\"The two strings are anagram of each other\") \n",
        "else:  \n",
        "    print (\"The two strings are not anagram of each other\")    \n",
        "\n"
      ],
      "execution_count": 33,
      "outputs": [
        {
          "output_type": "stream",
          "text": [
            "enter first word.nitin\n",
            "enter second word.tinni\n",
            "nitin  first word is a palindrome\n",
            "tinni  second word is not a palindrome\n",
            "The two strings are anagram of each other\n"
          ],
          "name": "stdout"
        }
      ]
    },
    {
      "cell_type": "markdown",
      "metadata": {
        "id": "p6wzwk39gJRQ",
        "colab_type": "text"
      },
      "source": [
        "Question 1 :\n",
        "Write a Python program to find the first 20 non-even prime natural numbers"
      ]
    },
    {
      "cell_type": "code",
      "metadata": {
        "id": "G_deoY5VckY8",
        "colab_type": "code",
        "colab": {
          "base_uri": "https://localhost:8080/",
          "height": 357
        },
        "outputId": "9a82403d-1989-439a-f480-876449b78d6a"
      },
      "source": [
        "from sympy import isprime\n",
        "count=0\n",
        "for k in range(100):\n",
        "  if(isprime(k) and count< 20):\n",
        "    if k%2 !=0:\n",
        "      print(k)\n",
        "      count+=1\n"
      ],
      "execution_count": 25,
      "outputs": [
        {
          "output_type": "stream",
          "text": [
            "3\n",
            "5\n",
            "7\n",
            "11\n",
            "13\n",
            "17\n",
            "19\n",
            "23\n",
            "29\n",
            "31\n",
            "37\n",
            "41\n",
            "43\n",
            "47\n",
            "53\n",
            "59\n",
            "61\n",
            "67\n",
            "71\n",
            "73\n"
          ],
          "name": "stdout"
        }
      ]
    },
    {
      "cell_type": "markdown",
      "metadata": {
        "id": "tNx9hbhqhI4s",
        "colab_type": "text"
      },
      "source": [
        "Question 4:\n",
        "Write a Python's user defined function that removes all the additional characters from the string\n",
        "and converts it finally to lower case using built-in lower(). eg: If the string is \"Dr. Darshan Ingle\n",
        "@AI-ML Trainer\", then the output be \"drdarshaningleaimltrainer\"."
      ]
    },
    {
      "cell_type": "code",
      "metadata": {
        "id": "QXEssr35hJx7",
        "colab_type": "code",
        "colab": {
          "base_uri": "https://localhost:8080/",
          "height": 68
        },
        "outputId": "1fa1dcb2-8c61-452e-94bb-f49d98cbd916"
      },
      "source": [
        "\n",
        "def replace_char(j):\n",
        "  invaild_set = [ '!','@','#','$','%','^','&','*','(',')','_','+','{','}','[',']',',',' ','.','-']\n",
        "  for i in invaild_set:\n",
        "    j=j.replace(i,'')\n",
        "    j=j.lower()\n",
        "  print(\"after removing all special character from the given string \")\n",
        "  print(\"resultant string is :\",j )\n",
        "s= \"Dr. Darshan Ingle @AI-ML Trainer\"\n",
        "print(\"string is:\", s)\n",
        "replace_char(s)\n",
        "\n",
        "\n"
      ],
      "execution_count": 28,
      "outputs": [
        {
          "output_type": "stream",
          "text": [
            "string is: Dr. Darshan Ingle @AI-ML Trainer\n",
            "after removing all special character from the given string \n",
            "resultant string is : drdarshaningleaimltrainer\n"
          ],
          "name": "stdout"
        }
      ]
    },
    {
      "cell_type": "markdown",
      "metadata": {
        "id": "ZEJA1FnpvlvG",
        "colab_type": "text"
      },
      "source": [
        ""
      ]
    }
  ]
}